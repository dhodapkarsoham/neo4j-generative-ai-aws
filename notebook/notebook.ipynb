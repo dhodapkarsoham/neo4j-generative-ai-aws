{
 "cells": [
  {
   "cell_type": "markdown",
   "id": "3d3d39ab",
   "metadata": {
    "id": "3d3d39ab"
   },
   "source": [
    "# Knowledge App From ESG Reports using AWS Bedrock and Neo4j\n",
    "In this notebook, let's explore how to leverage AWS Bedrock to build and consume a knowledge graph in Neo4j from Environmental, Social and Governance reports from 439 companies across Consumer goods, Financial Services, Healthcare, All Services, Technology companies, Energy sectors\n",
    "\n",
    "This notebook parses data from [responsibilityreports.com](https://www.responsibilityreports.com) using AWS' Titan models. The models will be prompted to recognise and extract entities and relationships. We will then generate Neo4j Cypher queries using them and write the data to a Neo4j database.\n",
    "We will again use Titan model and prompt it to convert questions in english to Cypher - Neo4j's query language, which can be used for data retrieval."
   ]
  },
  {
   "cell_type": "markdown",
   "id": "f17a9328-f17d-48ae-b72e-c333fb867eb0",
   "metadata": {
    "id": "f17a9328-f17d-48ae-b72e-c333fb867eb0",
    "tags": []
   },
   "source": [
    "## Setup\n",
    "First off, check that the Python environment you installed in the readme is running this notebook. Make sure you select the a kernel that runs Python 3.8 and above. You can select a SageMaker Image (Eg. Base Python 3.0) that runs 3.10"
   ]
  },
  {
   "cell_type": "code",
   "execution_count": 3,
   "id": "80b97b17-4ec5-447a-88d0-df6faaf662fe",
   "metadata": {
    "tags": []
   },
   "outputs": [
    {
     "data": {
      "text/plain": [
       "'3.10.8 (main, Oct 13 2022, 22:36:54) [GCC 10.2.1 20210110]'"
      ]
     },
     "execution_count": 3,
     "metadata": {},
     "output_type": "execute_result"
    }
   ],
   "source": [
    "import sys\n",
    "sys.version"
   ]
  },
  {
   "cell_type": "markdown",
   "id": "87eb2fda-70c8-4733-ac6f-2678e5cbff47",
   "metadata": {
    "id": "87eb2fda-70c8-4733-ac6f-2678e5cbff47"
   },
   "source": [
    "First lets install Bedrock libs. Currently they are in preview. So you have to download them here and unzip to a folder."
   ]
  },
  {
   "cell_type": "code",
   "execution_count": null,
   "id": "3be06b0f-fe29-417f-bc8c-0593eb908577",
   "metadata": {
    "tags": []
   },
   "outputs": [],
   "source": [
    "%pip uninstall -y botocore3\n",
    "%pip uninstall -y boto3"
   ]
  },
  {
   "cell_type": "code",
   "execution_count": null,
   "id": "4a489800-9ba8-4584-af5f-a266ea14899d",
   "metadata": {
    "tags": []
   },
   "outputs": [],
   "source": [
    "!wget -O /root/bedrock-python-sdk.zip https://preview.documentation.bedrock.aws.dev/Documentation/SDK/bedrock-python-sdk.zip\n",
    "!unzip /root/bedrock-python-sdk.zip -d /root/bedrock-python-sdk"
   ]
  },
  {
   "cell_type": "markdown",
   "id": "7fa6ceb0-bcaf-4122-8ab8-c39e682f1698",
   "metadata": {},
   "source": [
    "Make sure the `boto` & `botocore` libs correspond to the right version of your downloaded SDK. And then execute the code below"
   ]
  },
  {
   "cell_type": "code",
   "execution_count": null,
   "id": "6d54d6af-36c1-4325-bae9-97786a49b003",
   "metadata": {
    "tags": []
   },
   "outputs": [],
   "source": [
    "%pip install /root/bedrock-python-sdk/boto3-1.26.162-py3-none-any.whl\n",
    "%pip install /root/bedrock-python-sdk/botocore-1.29.162-py3-none-any.whl"
   ]
  },
  {
   "cell_type": "code",
   "execution_count": null,
   "id": "43720d2e-05cd-49de-bbb9-15c0b10d768b",
   "metadata": {
    "tags": []
   },
   "outputs": [],
   "source": [
    "# %pip install boto3\n",
    "%pip install --user \"langchain>=0.0.237\"\n",
    "%pip install --user nltk\n",
    "%pip install --user graphdatascience\n",
    "%pip install --user pydantic\n",
    "%pip install --user IProgress\n",
    "%pip install --user tqdm"
   ]
  },
  {
   "cell_type": "markdown",
   "id": "42f91036-7018-465f-b4af-8d5523e7ed3a",
   "metadata": {},
   "source": [
    "Now restart the kernel.  That will allow the Python evironment to import the new packages."
   ]
  },
  {
   "cell_type": "markdown",
   "id": "a44ccbf1-28bf-48cc-969f-30932ad9bd95",
   "metadata": {},
   "source": [
    "Provide your `SERVICE_NAME` (e.g. `bedrock`) & `REGION_NAME` (e.g. `us-east-1`) in the code below"
   ]
  },
  {
   "cell_type": "code",
   "execution_count": 205,
   "id": "4ad823ee-84ca-4de3-9b29-4b324ac5b9ae",
   "metadata": {
    "id": "4ad823ee-84ca-4de3-9b29-4b324ac5b9ae",
    "tags": []
   },
   "outputs": [],
   "source": [
    "# Note, you will need to set your project_id\n",
    "SERVICE_NAME = 'bedrock'\n",
    "REGION_NAME = 'us-west-2'"
   ]
  },
  {
   "cell_type": "code",
   "execution_count": 206,
   "id": "42c5a70c-aee1-462b-953a-4c87a524a111",
   "metadata": {
    "id": "42c5a70c-aee1-462b-953a-4c87a524a111",
    "tags": []
   },
   "outputs": [],
   "source": [
    "import boto3\n",
    "import json\n",
    "bedrock = boto3.client(\n",
    " service_name=SERVICE_NAME,\n",
    " region_name=REGION_NAME,\n",
    " endpoint_url=f'https://{SERVICE_NAME}.{REGION_NAME}.amazonaws.com'\n",
    ")"
   ]
  },
  {
   "cell_type": "markdown",
   "id": "4e43bb3c",
   "metadata": {
    "id": "4e43bb3c"
   },
   "source": [
    "## Prompt Definition"
   ]
  },
  {
   "cell_type": "markdown",
   "id": "72960046",
   "metadata": {
    "id": "72960046"
   },
   "source": [
    "In the upcoming sections, we will extract knowledge adhering to the following schema. This is a very Simplified schema to extract only the information we are interested in. Normally, you will have Domain Experts who come up with an ideal Schema. Neo4j being a schema-flexible database, the schema can be modified later to accomodate new data"
   ]
  },
  {
   "cell_type": "markdown",
   "id": "07dfc155-d313-48e5-a5b0-17f6347beff5",
   "metadata": {},
   "source": [
    "\n",
    "\n",
    "Schema:\n",
    "````\n",
    "(:Company{ticker:string,name:string,sector:string})-[:FILED_ESG_REPORT]->(EsgReport{year:number,url:string})\n",
    "(:Company{ticker:string,name:string,sector:string})-[:PARTNERED_WITH{date:string,for:string}]->(:Company{ticker:string,name:string,sector:string})\n",
    "(:Company{ticker:string,name:string,sector:string})-[_DONATED_TO{amount:string,for:string}]->(:Company{ticker:string,name:string,sector:string})\n",
    "(:Company{ticker:string,name:string,sector:string})-[:HAS_ENV_METRIC]->(Metric{name:string,value:string})\n",
    "(:Company{ticker:string,name:string,sector:string})-[:HAS_SOCIAL_METRIC]->(Metric{name:string,value:string})\n",
    "(:Company{ticker:string,name:string,sector:string})-[:HAS_GOVERNANCE_METRIC]->(Metric{name:string,value:string})\n",
    "(:Company{ticker:string,name:string,sector:string})-[:HAS_GOAL]->(:Goal{target:string})\n",
    "(:Goal{name:string})-[:IS_ABOUT]->(:Criteria{name:string})\n",
    "````\n",
    "\n",
    "\n",
    "\n",
    "\n"
   ]
  },
  {
   "cell_type": "markdown",
   "id": "7781a12b",
   "metadata": {
    "id": "7781a12b"
   },
   "source": [
    "To achieve our Extraction goal as per the schema, I am going to chain a series of prompts, each focused on only one task - to extract a specific entity. By this way, you can go for more granular extraction. The prompts I used here can be improved and in production scenario, you should consider running QA on the prompt pipelines to ensure that the extracted information is correct. Also, you should consider a landing and serving zones and ensure only curated data lands the serving zone."
   ]
  },
  {
   "cell_type": "markdown",
   "id": "7028d309",
   "metadata": {},
   "source": [
    "Our input source is a `txt` file served from a URL. So, lets write some code to extract and convert the txt to json."
   ]
  },
  {
   "cell_type": "code",
   "execution_count": 300,
   "id": "27107c1c-a5f0-4c88-8bbd-e3ee94f758aa",
   "metadata": {
    "tags": []
   },
   "outputs": [],
   "source": [
    "import json\n",
    "inp_text = ''\n",
    "with open('./data/DKS.txt') as f:\n",
    "    inp_text = f.read()"
   ]
  },
  {
   "cell_type": "markdown",
   "id": "d7a414dc",
   "metadata": {},
   "source": [
    "Now, let's write some helper functions to call Bedrock's Tital model"
   ]
  },
  {
   "cell_type": "code",
   "execution_count": 207,
   "id": "d903cb98-ce84-43bb-b860-71a394604a52",
   "metadata": {
    "tags": []
   },
   "outputs": [],
   "source": [
    "def call_titan_model(prompt):\n",
    "    try:\n",
    "        body = json.dumps({\"inputText\": prompt, \"textGenerationConfig\":\n",
    "                           {\"maxTokenCount\":3000,\"stopSequences\":[],\"temperature\":0,\"topP\":0.9}})\n",
    "        modelId = 'amazon.titan-tg1-large' # change this to use a different version from the model provider\n",
    "        accept = 'application/json'\n",
    "        contentType = 'application/json'\n",
    "\n",
    "        response = bedrock.invoke_model(body=body, modelId=modelId, accept=accept, contentType=contentType)\n",
    "        response_body = json.loads(response.get('body').read())\n",
    "\n",
    "        return response_body.get('results')[0].get('outputText')\n",
    "    except Exception as e:\n",
    "        print(e)"
   ]
  },
  {
   "cell_type": "markdown",
   "id": "cbcc76d7-cea3-40ea-82ed-3b73fee8edc1",
   "metadata": {},
   "source": [
    "1. company strategy:\n",
    "board, company, corporate, governance, management, executive, director, shareholder, global, engagement, vote, term, responsibility, business, team\n",
    "\n",
    "2. green energy:\n",
    "energy, emission, million, renewable, use, project, reduce, carbon, water, billion, power, green, total, gas, source\n",
    "\n",
    "3. customer focus:\n",
    "customer, provide, business, improve, financial, support, investment, service, year, sustainability, nancial, global, include, help, initiative\n",
    "\n",
    "4. support community:\n",
    "community, people, business, support, new, small, income, real, woman, launch, estate, access, customer, uk, include \n",
    "\n",
    "5. ethical investments:\n",
    "investment, climate, company, change, portfolio, risk, responsible, sector, transition, equity, investor, sustainable, business, opportunity, market\n",
    "\n",
    "6. sustainable finance:\n",
    "sustainable, impact, sustainability, asset, management, environmental, social, investing, company, billion, waste, client, datum, investment, provide\n",
    "\n",
    "7. code of conduct:\n",
    "include, policy, information, risk, review, management, investment, company, portfolio, process, environmental, governance, scope, conduct, datum\n",
    "\n",
    "8. strong governance:\n",
    "risk, business, management, environmental, customer, manage, human, social, climate, approach, conduct, page, client, impact, strategic\n",
    "\n",
    "9. value employees:\n",
    "employee, work, people, support, value, client, company, help, include, provide, community, program, diverse, customer, service"
   ]
  },
  {
   "cell_type": "markdown",
   "id": "42114db4",
   "metadata": {},
   "source": [
    "Now, lets define the prompts to enable our extraction process"
   ]
  },
  {
   "cell_type": "code",
   "execution_count": 209,
   "id": "22e08bf3-40aa-4f86-a01a-cfac9826cce6",
   "metadata": {
    "tags": []
   },
   "outputs": [],
   "source": [
    "import json\n",
    "import re\n",
    "\n",
    "def extract_json_from_string(input_string):\n",
    "    pattern = r'\\{.*?\\}|\\[.*?\\]'\n",
    "    match = re.search(pattern, input_string.replace('\\n', ' ').replace('```', ''))\n",
    "    if match:\n",
    "        return json.loads(match.group())"
   ]
  },
  {
   "cell_type": "markdown",
   "id": "605ad98c",
   "metadata": {
    "id": "605ad98c"
   },
   "source": [
    "Some of the letters are going to be very long for most LLMs to take them as input. So, lets split the large text in a contextaware manner using NLTK"
   ]
  },
  {
   "cell_type": "code",
   "execution_count": 257,
   "id": "7e7535fa-3f81-49ec-af18-2a05aed14825",
   "metadata": {
    "tags": []
   },
   "outputs": [
    {
     "name": "stderr",
     "output_type": "stream",
     "text": [
      "Created a chunk of size 5696, which is longer than the specified 4000\n"
     ]
    }
   ],
   "source": [
    "from langchain.text_splitter import NLTKTextSplitter\n",
    "import nltk\n",
    "nltk.download('punkt', quiet=True) #downloads the tokenizer model that will help us with context aware of text splitting\n",
    "\n",
    "text = inp_text\n",
    "\n",
    "text_splitter = NLTKTextSplitter()\n",
    "docs = text_splitter.split_text(text)"
   ]
  },
  {
   "cell_type": "code",
   "execution_count": 272,
   "id": "1443f3ba-a4a0-4e91-a0f2-188a1e5d024d",
   "metadata": {
    "tags": []
   },
   "outputs": [
    {
     "data": {
      "text/plain": [
       "8"
      ]
     },
     "execution_count": 272,
     "metadata": {},
     "output_type": "execute_result"
    }
   ],
   "source": [
    "spl=text.split('\\n')\n",
    "docs=[]\n",
    "for i in range(len(spl)//250+1):\n",
    "    docs.append('\\n'.join(spl[i:i+250]))\n",
    "len(docs)"
   ]
  },
  {
   "cell_type": "code",
   "execution_count": 291,
   "id": "f479bb11-d69a-4b5a-8a59-a9bd64ee701b",
   "metadata": {
    "tags": []
   },
   "outputs": [
    {
     "name": "stdout",
     "output_type": "stream",
     "text": [
      "• Developed and implemented a comprehensive COVID-19 response plan to protect teammates and customers.\n",
      "• Donated $30 million to The DICK’S Sporting Goods Foundation to support more kids, teams, and leagues and ensure programs were still in place and strong upon return.\n",
      "• Introduced curbside pickup in two days to show appreciation for hardworking teammates.\n",
      "• Strengthened zero-tolerance stance against discrimination and delivered over 100,000 hours of anti-racism and discrimination bias training.\n",
      "• Rolled out new I&D goals for the organization and published new data on the composition of our workforce.\n",
      "• Continued to support youth sports through The DICK’S Sporting Goods Foundation, including the Foundation’s customized Sports Matter Giving Truck and programs to help female athletes make strides on and off the field.\n",
      "• Joined the Outdoor Industry Climate Action Corps and set a goal to reduce greenhouse gas emissions (GHG) by 30% by 2030.\n",
      "• Partnered with TerraCycle to launch a national recycling program for hard-to-recycle sports equipment, including shoes and cleats, through in-store drop boxes and online collection events.\n",
      "• Introduced a new store concept, Public Lands, to focus on conservation and access to the outdoors for all.\n",
      "• Joined the Outdoor Association’s Climate Action Corp.\n",
      "• Signed the “We Are Still In” declaration\n",
      "• Supported the Paris Climate Agreement\n",
      "• Set a goal to reduce our greenhouse gas emissions (GHG) by 30% by 2030\n",
      "• Developed a climate action plan\n",
      "• Joined the Outdoor Industry Climate Action Corps\n",
      "• Committed to measuring, setting targets, creating a plan, and sharing progress on climate impact\n",
      "• Set a goal to eliminate single-use, point-of-sale plastic bags from all stores by 2025\n",
      "• Developed a responsible sourcing strategy\n",
      "• Implemented a responsible sourcing policy\n",
      "• Conducted a responsible sourcing audit\n",
      "• Developed a traceability program\n",
      "• Conducted a chemical management policy\n",
      "• Developed a data privacy and security policy\n",
      "• Conducted a responsible recruitment strategy\n",
      "• Joined the AAFA/FLA Industry commitment to Responsible Recruitment\n",
      "• Participated in the Higg Facility Environmental Module pilot\n",
      "• Joined the Outdoor Industry Climate Action Corps\n",
      "• Signed the CEO Action for Diversity & Inclusion Pledge\n",
      "• Signed the Outdoor CEO Diversity Pledge\n",
      "• Developed a climate action plan\n",
      "• Committed to removing single-use, point-of-sale plastic bags from all stores by 2025\n",
      "• Joined the “We Are Still In” declaration\n",
      "• Committed to the Paris Climate Agreement\n",
      "• Set a goal to reduce greenhouse gas (GHG) emissions by 30% by 2030 (versus 2016 baseline)\n",
      "• Set ambitious new Inclusion and Diversity (I&D) goals for our workforce\n",
      "• Joined the CEO Action for Diversity & Inclusion pledge\n",
      "• Joined the Outdoor CEO Diversity pledge\n",
      "• Delivered over 100,000 hours of anti-racism and discrimination bias training\n",
      "• Strengthened our zero-tolerance stance against discrimination\n",
      "• Rolled out new Purpose Playbook with updated I&D goals\n",
      "• Published new data on the composition of our workforce\n",
      "• Donated $30 million to The DICK’S Sporting Goods Foundation to support more kids, teams, and leagues\n",
      "• Joined the CEO Action for Diversity & Inclusion pledge and the Outdoor CEO Diversity pledge.\n",
      "• Delivered over 100,000 hours of anti-racism and discrimination bias training.\n",
      "• Strengthened our zero-tolerance stance against discrimination.\n",
      "• Rolled out new I&D goals for the organization.\n",
      "• Published new data on the composition of our workforce.\n",
      "• Donated $30 million to The DICK’S Sporting Goods Foundation to help support more kids, teams, and leagues and ensure those programs were still in place and strong upon return.\n",
      "• Maintained a median gender pay ratio of 100%.\n",
      "• Achieved 50% BIPOC and/or women for entry-level hires for technology by 2025.\n",
      "• Increased BIPOC representation in leadership roles by 30%.\n",
      "• Launched a new paid parental leave policy for all U.S. teammates, including same-sex couples and domestic partners.\n",
      "• Introduced a new parental leave policy for adoption, fostering, and surrogacy.\n",
      "• Expanded bereavement leave to include all U.S. teammates.\n",
      "• Began offering up to $20,000 in tuition assistance per year to all U.S. teammates.\n",
      "• Introduced a new mentorship program to support career growth and development.\n",
      "• Launched a new paid time off policy to provide teammates with more flexibility to balance work and life priorities.\n",
      "• Began offering up to $10,000 in adoption assistance to all U.S. teammates.\n",
      "• Expanded our military hiring efforts to include reservists and National Guard members.\n",
      "• Launched a new Military and First Responder discount program.\n",
      "• Introduced a new Military and First Responder discount program.\n",
      "• Began offering up to $10,000 in adoption assistance to all U.S. teammates.\n",
      "• Expanded our military hiring efforts to include reservists and National Guard members.\n",
      "• Launched a new Military and First Responder discount program.\n",
      "• Introduced a new Military and First Responder discount program.\n",
      "• Began offering up to $10,000 in adoption assistance to all U.S. teammates.\n",
      "• Expanded our military hiring efforts to include reservists and National Guard members.\n",
      "• Launched a new Military and First Responder discount program.\n",
      "• Introduced a new Military and First Responder discount program.\n",
      "• Began offering up to $10,0\n",
      "• Established a median gender pay ratio of 100%.\n",
      "• Achieved 50% BIPOC and/or women for entry-level hires for technology by 2025.\n",
      "• Increased BIPOC representation in leadership roles by 30%.\n",
      "• Launched a new paid parental leave policy for hourly and salaried teammates, including adoption and surrogacy.\n",
      "• Introduced a new parental leave policy for hourly teammates that provides up to 12 weeks of paid time off and up to 4 weeks of unpaid time off, including adoption and surrogacy.\n",
      "• Donated $30 million to The DICK’S Sporting Goods Foundation to support more kids, teams, and leagues and ensure that those programs were still in place and strong upon return.\n",
      "• Partnered with the Boys & Girls Clubs of America to provide $1.5 million in grants to 160 clubs across the country to help provide safe spaces for youth to learn, grow, and play.\n",
      "• Donated $1.25 million to the Hispanic Federation to support Hispanic youth through education, leadership development, and community engagement.\n",
      "• Donated $1 million to the National Urban League to support youth development and education programs.\n",
      "• Donated $500,000 to the Jackie Robinson Foundation to support college-bound high school seniors from low-income families.\n",
      "• Provided $250,000 in grants to the Special Olympics to support year-round sports training and competition for individuals with intellectual disabilities.\n",
      "• Supported the American Red Cross through a $250,000 donation and a company-wide fundraising campaign, resulting in more than 1,000 blood donations.\n",
      "• Donated $250,000 to the Salvation Army to support disaster relief and recovery efforts.\n",
      "• Donated $200,000 to the American Heart Association to support heart health and wellness education programs.\n",
      "• Donated $150,000 to the National Women\n",
      "• Established a premium pay program for store and DC teammates\n",
      "• Donated $30M to The DICK’S Sporting Goods Foundation to support more kids, teams, and leagues\n",
      "• Launched a new climate agenda and set of goals to reduce our environmental footprint and impact\n",
      "• Joined the Outdoor Industry Climate Action Corps and pledged to measure, set targets, create a plan, and share progress on our climate impact\n",
      "• Signed the CEO Action for Diversity & Inclusion pledge and the Outdoor CEO Diversity pledge\n",
      "• Delivered over 100,000 hours of anti-racism and discrimination bias training\n",
      "• Strengthened our zero-tolerance stance against discrimination\n"
     ]
    }
   ],
   "source": [
    "from string import Template\n",
    "import json\n",
    "\n",
    "things_achieved_tpl=\"\"\"In this chunk of ESG report from a Company, list out the metrics or things that the company achieved:\n",
    "$ctext\n",
    "Achievements:\n",
    "\"\"\"\n",
    "achievements = []\n",
    "for chunk in docs:\n",
    "    prompt = Template(things_achieved_tpl).substitute(ctext=chunk)\n",
    "    response = call_titan_model(prompt)\n",
    "    if response.strip().lower() != 'n/a':\n",
    "        print(response)\n",
    "        achievements.append(response)"
   ]
  },
  {
   "cell_type": "code",
   "execution_count": 294,
   "id": "5cfa5d6b-97c3-4bb8-b421-1f34de721390",
   "metadata": {
    "tags": []
   },
   "outputs": [
    {
     "name": "stdout",
     "output_type": "stream",
     "text": [
      "• Climate action \n",
      "• Environmental responsibility \n",
      "• Water stewardship \n",
      "• Biodiversity and habitat conservation \n",
      "• Responsible sourcing \n",
      "• Product quality and safety \n",
      "• Firearms safety \n",
      "• Responsible sourcing \n",
      "• Chemical safety and management \n",
      "• Data protection and privacy\n",
      "• Climate action \n",
      "• Environmental responsibility \n",
      "• Water stewardship \n",
      "• Biodiversity\n",
      "• Responsible sourcing\n",
      "• Reduce GHG emissions by 30% by 2030 (versus 2016 baseline)\n",
      "• Join the AAFA/FLA Industry commitment to Responsible Recruitment.\n",
      "• Attain 100% participation of vertical brands in the Higg facility environmental module by 2025.\n",
      "• Reduce GHG emissions by 30% by 2030 (versus 2016 baseline)\n",
      "• Increase renewable energy use by 25% by 2025\n",
      "• Reduce water consumption by 10% by 2025\n",
      "• Diversify suppliers to reduce single-use packaging by 50% by 2025\n",
      "• Ensure 100% of owned and operated facilities are powered by renewable energy by 2030\n",
      "• Develop and implement a third-party verification process for responsible sourcing\n",
      "• Climate impact/greenhouse gas (GHG) emissions \n",
      "• Energy \n",
      "• Sustainable operations\n",
      "• Climate impact/greenhouse gas (GHG) emissions \n",
      "• Energy \n",
      "• Sustainable operations \n",
      "• Waste and recycling\n",
      "\n",
      "• Maintain a median gender pay ratio of 100%.\n",
      "• Achieve 50% BIPOC and/or women for entry-level hires for technology by 2025.\n",
      "• Increase BIPOC representation in leadership roles by 30% by 2025.\n",
      "• Increase overall representation of women in store leadership to 40% by 2025.\n",
      "• Maintain a median gender pay ratio of 100%.\n",
      "• Achieve 50% BIPOC and/or women for entry-level hires for technology by 2025.\n",
      "• Increase BIPOC representation in leadership roles by 30% by 2025.\n",
      "• Increase overall representation of women in store leadership to 40% by 2025.\n"
     ]
    }
   ],
   "source": [
    "planned_goals_tpl=\"\"\"In this chunk of ESG report from a Company, list out the goals that the company is planning in the near future:\n",
    "$ctext\n",
    "Goals:\n",
    "\"\"\"\n",
    "goals = []\n",
    "for chunk in docs:\n",
    "    prompt = Template(planned_goals_tpl).substitute(ctext=chunk)\n",
    "    response = call_titan_model(prompt)\n",
    "    if response.strip().lower() != 'n/a':\n",
    "        print(response)\n",
    "        goals.append(response)"
   ]
  },
  {
   "cell_type": "code",
   "execution_count": 301,
   "id": "0381c5cf-ed7e-4439-b0ac-4bc532c54da6",
   "metadata": {
    "tags": []
   },
   "outputs": [
    {
     "name": "stdout",
     "output_type": "stream",
     "text": [
      "(‘‘Program Name‘‘, ‘‘Description‘‘), (‘‘Program Name‘‘, ‘‘Goal‘‘), (‘‘Program Name‘‘, ‘‘Outcome‘‘), (‘‘Program Name‘‘, ‘‘Impact Metric‘‘), (‘‘Program Name‘‘, ‘‘Target Date‘‘), (‘‘Program Name‘‘, ‘‘Participating Company‘‘), (‘‘Program Name‘‘, ‘‘Description of Support‘‘), (‘‘Program Name‘‘, ‘‘Amount Donated‘‘), (‘‘Program Name‘‘, ‘‘Recipient Organization‘‘), (‘‘Program Name‘‘, ‘‘Program Focus Area‘‘), (‘‘Program Name‘‘, ‘‘Impact of Support‘‘)\n",
      "```tabular-data-json\n",
      "{\"rows\": [[\"Program Name\", \"COVID-19 Response Plan\"], [\"Program Name\", \"The DICK'S Sporting Goods Foundation\"], [\"Program Name\", \"Zero-Tolerance Stance Against Discrimination\"], [\"Program Name\", \"Anti-Racism and Discrimination Bias Training\"], [\"Program Name\", \"I&D Goals\"], [\"Program Name\", \"Sports Matter Giving Truck\"], [\"Program Name\", \"Female Athletes\"], [\"Program Name\", \"Climate Action Plan\"], [\"Program Name\", \"Outdoor Industry Climate Action Corps\"], [\"Program Name\", \"We Are Still In Declaration\"], [\"Program Name\", \"Paris Climate Agreement\"], [\"Program Name\", \"Reduce Greenhouse Gas Emissions (GHG) by 30%\"], [\"Program Name\", \"Climate Action Plan\"], [\"Program Name\", \"Outdoor Industry Climate Action Corps\"], [\"Program Name\", \"We Are Still In Declaration\"], [\"Program Name\", \"Paris Climate Agreement\"], [\"Program Name\", \"Reduce Greenhouse Gas Emissions (GHG) by 30%\"], [\"Program Name\", \"Climate Action Plan\"], [\"Program Name\", \"Outdoor Industry Climate Action Corps\"]]}\n",
      "```\n"
     ]
    }
   ],
   "source": [
    "convert_achievements_to_metrics = \"\"\"These are the achievements extracted from a Company's ESG report. What are the metrics & their respective values as tuples that you can extract from them?\n",
    "$ctext\n",
    "Metrics tuples:\n",
    "\"\"\"\n",
    "metrics = []\n",
    "prompt = Template(convert_achievements_to_metrics).substitute(ctext='\\n'.join(achievements))\n",
    "response = call_titan_model(prompt)\n",
    "if response.strip().lower() != 'n/a':\n",
    "    print(response)\n",
    "    metrics.append(response)"
   ]
  },
  {
   "cell_type": "code",
   "execution_count": 246,
   "id": "8de54345-1b1c-47a8-bb28-7f273d91a9a7",
   "metadata": {
    "tags": []
   },
   "outputs": [],
   "source": [
    "# tries = 0\n",
    "# if response is None:\n",
    "#     continue\n",
    "# while \"tabular-data-json\" in response or not(response.endswith(('`', ']'))): #sometimes Titan returns output not in the format we mentioned. This is a temp HACK\n",
    "#     if tries > 4:\n",
    "#         print(response)\n",
    "#         raise Exception(\"Model not returning in JSON. Try again or change your prompt\")\n",
    "#     tries = tries + 1\n",
    "#     response = call_titan_model(prompt)"
   ]
  },
  {
   "cell_type": "markdown",
   "id": "8feb2a60",
   "metadata": {
    "id": "8feb2a60"
   },
   "source": [
    "## Data Ingestion Cypher Generation"
   ]
  },
  {
   "cell_type": "markdown",
   "id": "0b96efc5",
   "metadata": {
    "id": "0b96efc5"
   },
   "source": [
    "The entities and relationships we got from the LLM have to be transformed to Cypher so we can write them into Neo4j."
   ]
  },
  {
   "cell_type": "markdown",
   "id": "54c69170",
   "metadata": {
    "id": "54c69170",
    "tags": []
   },
   "source": [
    "## Data Ingestion"
   ]
  },
  {
   "cell_type": "markdown",
   "id": "00f06013-a653-43cf-be7c-de2888e621f7",
   "metadata": {
    "id": "00f06013-a653-43cf-be7c-de2888e621f7"
   },
   "source": [
    "You will need a Neo4j AuraDS Pro instance.  You can deploy that on Google Cloud Marketplace [here](https://console.cloud.google.com/marketplace/product/endpoints/prod.n4gcp.neo4j.io).\n",
    "\n",
    "With that complete, you'll need to install the Neo4j library and set up your database connection."
   ]
  },
  {
   "cell_type": "code",
   "execution_count": 3,
   "id": "e621c199-533a-4503-baef-200c5adcd8ad",
   "metadata": {
    "id": "e621c199-533a-4503-baef-200c5adcd8ad"
   },
   "outputs": [],
   "source": [
    "from graphdatascience import GraphDataScience"
   ]
  },
  {
   "cell_type": "code",
   "execution_count": 4,
   "id": "0ecea5ff",
   "metadata": {
    "id": "0ecea5ff"
   },
   "outputs": [
    {
     "name": "stdin",
     "output_type": "stream",
     "text": [
      "Neo4j Connection URL neo4j+s://a47f742d.databases.neo4j.io\n",
      "DB Username neo4j\n",
      "DB password ········\n"
     ]
    }
   ],
   "source": [
    "import getpass\n",
    "\n",
    "# You will need to change these variables\n",
    "connectionUrl = input(\"Neo4j Connection URL\")\n",
    "username = input(\"DB Username\")\n",
    "password = getpass.getpass(\"DB password\")"
   ]
  },
  {
   "cell_type": "code",
   "execution_count": 5,
   "id": "ddbfa6e8",
   "metadata": {
    "id": "ddbfa6e8"
   },
   "outputs": [],
   "source": [
    "gds = GraphDataScience(\n",
    "    connectionUrl,\n",
    "    auth=(username, password),\n",
    "    aura_ds=True)\n",
    "\n",
    "gds.set_database(\"neo4j\")"
   ]
  },
  {
   "cell_type": "markdown",
   "id": "228a3a58",
   "metadata": {
    "id": "228a3a58"
   },
   "source": [
    "Before loading the data, create constraints as below"
   ]
  },
  {
   "cell_type": "code",
   "execution_count": 24,
   "id": "66756bab",
   "metadata": {
    "id": "66756bab"
   },
   "outputs": [
    {
     "data": {
      "text/html": [
       "<div>\n",
       "<style scoped>\n",
       "    .dataframe tbody tr th:only-of-type {\n",
       "        vertical-align: middle;\n",
       "    }\n",
       "\n",
       "    .dataframe tbody tr th {\n",
       "        vertical-align: top;\n",
       "    }\n",
       "\n",
       "    .dataframe thead th {\n",
       "        text-align: right;\n",
       "    }\n",
       "</style>\n",
       "<table border=\"1\" class=\"dataframe\">\n",
       "  <thead>\n",
       "    <tr style=\"text-align: right;\">\n",
       "      <th></th>\n",
       "    </tr>\n",
       "  </thead>\n",
       "  <tbody>\n",
       "  </tbody>\n",
       "</table>\n",
       "</div>"
      ],
      "text/plain": [
       "Empty DataFrame\n",
       "Columns: []\n",
       "Index: []"
      ]
     },
     "execution_count": 24,
     "metadata": {},
     "output_type": "execute_result"
    }
   ],
   "source": []
  },
  {
   "cell_type": "code",
   "execution_count": null,
   "id": "ef354498-82ee-4374-8d43-0b6476eaacdb",
   "metadata": {},
   "outputs": [],
   "source": []
  }
 ],
 "metadata": {
  "availableInstances": [
   {
    "_defaultOrder": 0,
    "_isFastLaunch": true,
    "category": "General purpose",
    "gpuNum": 0,
    "hideHardwareSpecs": false,
    "memoryGiB": 4,
    "name": "ml.t3.medium",
    "vcpuNum": 2
   },
   {
    "_defaultOrder": 1,
    "_isFastLaunch": false,
    "category": "General purpose",
    "gpuNum": 0,
    "hideHardwareSpecs": false,
    "memoryGiB": 8,
    "name": "ml.t3.large",
    "vcpuNum": 2
   },
   {
    "_defaultOrder": 2,
    "_isFastLaunch": false,
    "category": "General purpose",
    "gpuNum": 0,
    "hideHardwareSpecs": false,
    "memoryGiB": 16,
    "name": "ml.t3.xlarge",
    "vcpuNum": 4
   },
   {
    "_defaultOrder": 3,
    "_isFastLaunch": false,
    "category": "General purpose",
    "gpuNum": 0,
    "hideHardwareSpecs": false,
    "memoryGiB": 32,
    "name": "ml.t3.2xlarge",
    "vcpuNum": 8
   },
   {
    "_defaultOrder": 4,
    "_isFastLaunch": true,
    "category": "General purpose",
    "gpuNum": 0,
    "hideHardwareSpecs": false,
    "memoryGiB": 8,
    "name": "ml.m5.large",
    "vcpuNum": 2
   },
   {
    "_defaultOrder": 5,
    "_isFastLaunch": false,
    "category": "General purpose",
    "gpuNum": 0,
    "hideHardwareSpecs": false,
    "memoryGiB": 16,
    "name": "ml.m5.xlarge",
    "vcpuNum": 4
   },
   {
    "_defaultOrder": 6,
    "_isFastLaunch": false,
    "category": "General purpose",
    "gpuNum": 0,
    "hideHardwareSpecs": false,
    "memoryGiB": 32,
    "name": "ml.m5.2xlarge",
    "vcpuNum": 8
   },
   {
    "_defaultOrder": 7,
    "_isFastLaunch": false,
    "category": "General purpose",
    "gpuNum": 0,
    "hideHardwareSpecs": false,
    "memoryGiB": 64,
    "name": "ml.m5.4xlarge",
    "vcpuNum": 16
   },
   {
    "_defaultOrder": 8,
    "_isFastLaunch": false,
    "category": "General purpose",
    "gpuNum": 0,
    "hideHardwareSpecs": false,
    "memoryGiB": 128,
    "name": "ml.m5.8xlarge",
    "vcpuNum": 32
   },
   {
    "_defaultOrder": 9,
    "_isFastLaunch": false,
    "category": "General purpose",
    "gpuNum": 0,
    "hideHardwareSpecs": false,
    "memoryGiB": 192,
    "name": "ml.m5.12xlarge",
    "vcpuNum": 48
   },
   {
    "_defaultOrder": 10,
    "_isFastLaunch": false,
    "category": "General purpose",
    "gpuNum": 0,
    "hideHardwareSpecs": false,
    "memoryGiB": 256,
    "name": "ml.m5.16xlarge",
    "vcpuNum": 64
   },
   {
    "_defaultOrder": 11,
    "_isFastLaunch": false,
    "category": "General purpose",
    "gpuNum": 0,
    "hideHardwareSpecs": false,
    "memoryGiB": 384,
    "name": "ml.m5.24xlarge",
    "vcpuNum": 96
   },
   {
    "_defaultOrder": 12,
    "_isFastLaunch": false,
    "category": "General purpose",
    "gpuNum": 0,
    "hideHardwareSpecs": false,
    "memoryGiB": 8,
    "name": "ml.m5d.large",
    "vcpuNum": 2
   },
   {
    "_defaultOrder": 13,
    "_isFastLaunch": false,
    "category": "General purpose",
    "gpuNum": 0,
    "hideHardwareSpecs": false,
    "memoryGiB": 16,
    "name": "ml.m5d.xlarge",
    "vcpuNum": 4
   },
   {
    "_defaultOrder": 14,
    "_isFastLaunch": false,
    "category": "General purpose",
    "gpuNum": 0,
    "hideHardwareSpecs": false,
    "memoryGiB": 32,
    "name": "ml.m5d.2xlarge",
    "vcpuNum": 8
   },
   {
    "_defaultOrder": 15,
    "_isFastLaunch": false,
    "category": "General purpose",
    "gpuNum": 0,
    "hideHardwareSpecs": false,
    "memoryGiB": 64,
    "name": "ml.m5d.4xlarge",
    "vcpuNum": 16
   },
   {
    "_defaultOrder": 16,
    "_isFastLaunch": false,
    "category": "General purpose",
    "gpuNum": 0,
    "hideHardwareSpecs": false,
    "memoryGiB": 128,
    "name": "ml.m5d.8xlarge",
    "vcpuNum": 32
   },
   {
    "_defaultOrder": 17,
    "_isFastLaunch": false,
    "category": "General purpose",
    "gpuNum": 0,
    "hideHardwareSpecs": false,
    "memoryGiB": 192,
    "name": "ml.m5d.12xlarge",
    "vcpuNum": 48
   },
   {
    "_defaultOrder": 18,
    "_isFastLaunch": false,
    "category": "General purpose",
    "gpuNum": 0,
    "hideHardwareSpecs": false,
    "memoryGiB": 256,
    "name": "ml.m5d.16xlarge",
    "vcpuNum": 64
   },
   {
    "_defaultOrder": 19,
    "_isFastLaunch": false,
    "category": "General purpose",
    "gpuNum": 0,
    "hideHardwareSpecs": false,
    "memoryGiB": 384,
    "name": "ml.m5d.24xlarge",
    "vcpuNum": 96
   },
   {
    "_defaultOrder": 20,
    "_isFastLaunch": false,
    "category": "General purpose",
    "gpuNum": 0,
    "hideHardwareSpecs": true,
    "memoryGiB": 0,
    "name": "ml.geospatial.interactive",
    "supportedImageNames": [
     "sagemaker-geospatial-v1-0"
    ],
    "vcpuNum": 0
   },
   {
    "_defaultOrder": 21,
    "_isFastLaunch": true,
    "category": "Compute optimized",
    "gpuNum": 0,
    "hideHardwareSpecs": false,
    "memoryGiB": 4,
    "name": "ml.c5.large",
    "vcpuNum": 2
   },
   {
    "_defaultOrder": 22,
    "_isFastLaunch": false,
    "category": "Compute optimized",
    "gpuNum": 0,
    "hideHardwareSpecs": false,
    "memoryGiB": 8,
    "name": "ml.c5.xlarge",
    "vcpuNum": 4
   },
   {
    "_defaultOrder": 23,
    "_isFastLaunch": false,
    "category": "Compute optimized",
    "gpuNum": 0,
    "hideHardwareSpecs": false,
    "memoryGiB": 16,
    "name": "ml.c5.2xlarge",
    "vcpuNum": 8
   },
   {
    "_defaultOrder": 24,
    "_isFastLaunch": false,
    "category": "Compute optimized",
    "gpuNum": 0,
    "hideHardwareSpecs": false,
    "memoryGiB": 32,
    "name": "ml.c5.4xlarge",
    "vcpuNum": 16
   },
   {
    "_defaultOrder": 25,
    "_isFastLaunch": false,
    "category": "Compute optimized",
    "gpuNum": 0,
    "hideHardwareSpecs": false,
    "memoryGiB": 72,
    "name": "ml.c5.9xlarge",
    "vcpuNum": 36
   },
   {
    "_defaultOrder": 26,
    "_isFastLaunch": false,
    "category": "Compute optimized",
    "gpuNum": 0,
    "hideHardwareSpecs": false,
    "memoryGiB": 96,
    "name": "ml.c5.12xlarge",
    "vcpuNum": 48
   },
   {
    "_defaultOrder": 27,
    "_isFastLaunch": false,
    "category": "Compute optimized",
    "gpuNum": 0,
    "hideHardwareSpecs": false,
    "memoryGiB": 144,
    "name": "ml.c5.18xlarge",
    "vcpuNum": 72
   },
   {
    "_defaultOrder": 28,
    "_isFastLaunch": false,
    "category": "Compute optimized",
    "gpuNum": 0,
    "hideHardwareSpecs": false,
    "memoryGiB": 192,
    "name": "ml.c5.24xlarge",
    "vcpuNum": 96
   },
   {
    "_defaultOrder": 29,
    "_isFastLaunch": true,
    "category": "Accelerated computing",
    "gpuNum": 1,
    "hideHardwareSpecs": false,
    "memoryGiB": 16,
    "name": "ml.g4dn.xlarge",
    "vcpuNum": 4
   },
   {
    "_defaultOrder": 30,
    "_isFastLaunch": false,
    "category": "Accelerated computing",
    "gpuNum": 1,
    "hideHardwareSpecs": false,
    "memoryGiB": 32,
    "name": "ml.g4dn.2xlarge",
    "vcpuNum": 8
   },
   {
    "_defaultOrder": 31,
    "_isFastLaunch": false,
    "category": "Accelerated computing",
    "gpuNum": 1,
    "hideHardwareSpecs": false,
    "memoryGiB": 64,
    "name": "ml.g4dn.4xlarge",
    "vcpuNum": 16
   },
   {
    "_defaultOrder": 32,
    "_isFastLaunch": false,
    "category": "Accelerated computing",
    "gpuNum": 1,
    "hideHardwareSpecs": false,
    "memoryGiB": 128,
    "name": "ml.g4dn.8xlarge",
    "vcpuNum": 32
   },
   {
    "_defaultOrder": 33,
    "_isFastLaunch": false,
    "category": "Accelerated computing",
    "gpuNum": 4,
    "hideHardwareSpecs": false,
    "memoryGiB": 192,
    "name": "ml.g4dn.12xlarge",
    "vcpuNum": 48
   },
   {
    "_defaultOrder": 34,
    "_isFastLaunch": false,
    "category": "Accelerated computing",
    "gpuNum": 1,
    "hideHardwareSpecs": false,
    "memoryGiB": 256,
    "name": "ml.g4dn.16xlarge",
    "vcpuNum": 64
   },
   {
    "_defaultOrder": 35,
    "_isFastLaunch": false,
    "category": "Accelerated computing",
    "gpuNum": 1,
    "hideHardwareSpecs": false,
    "memoryGiB": 61,
    "name": "ml.p3.2xlarge",
    "vcpuNum": 8
   },
   {
    "_defaultOrder": 36,
    "_isFastLaunch": false,
    "category": "Accelerated computing",
    "gpuNum": 4,
    "hideHardwareSpecs": false,
    "memoryGiB": 244,
    "name": "ml.p3.8xlarge",
    "vcpuNum": 32
   },
   {
    "_defaultOrder": 37,
    "_isFastLaunch": false,
    "category": "Accelerated computing",
    "gpuNum": 8,
    "hideHardwareSpecs": false,
    "memoryGiB": 488,
    "name": "ml.p3.16xlarge",
    "vcpuNum": 64
   },
   {
    "_defaultOrder": 38,
    "_isFastLaunch": false,
    "category": "Accelerated computing",
    "gpuNum": 8,
    "hideHardwareSpecs": false,
    "memoryGiB": 768,
    "name": "ml.p3dn.24xlarge",
    "vcpuNum": 96
   },
   {
    "_defaultOrder": 39,
    "_isFastLaunch": false,
    "category": "Memory Optimized",
    "gpuNum": 0,
    "hideHardwareSpecs": false,
    "memoryGiB": 16,
    "name": "ml.r5.large",
    "vcpuNum": 2
   },
   {
    "_defaultOrder": 40,
    "_isFastLaunch": false,
    "category": "Memory Optimized",
    "gpuNum": 0,
    "hideHardwareSpecs": false,
    "memoryGiB": 32,
    "name": "ml.r5.xlarge",
    "vcpuNum": 4
   },
   {
    "_defaultOrder": 41,
    "_isFastLaunch": false,
    "category": "Memory Optimized",
    "gpuNum": 0,
    "hideHardwareSpecs": false,
    "memoryGiB": 64,
    "name": "ml.r5.2xlarge",
    "vcpuNum": 8
   },
   {
    "_defaultOrder": 42,
    "_isFastLaunch": false,
    "category": "Memory Optimized",
    "gpuNum": 0,
    "hideHardwareSpecs": false,
    "memoryGiB": 128,
    "name": "ml.r5.4xlarge",
    "vcpuNum": 16
   },
   {
    "_defaultOrder": 43,
    "_isFastLaunch": false,
    "category": "Memory Optimized",
    "gpuNum": 0,
    "hideHardwareSpecs": false,
    "memoryGiB": 256,
    "name": "ml.r5.8xlarge",
    "vcpuNum": 32
   },
   {
    "_defaultOrder": 44,
    "_isFastLaunch": false,
    "category": "Memory Optimized",
    "gpuNum": 0,
    "hideHardwareSpecs": false,
    "memoryGiB": 384,
    "name": "ml.r5.12xlarge",
    "vcpuNum": 48
   },
   {
    "_defaultOrder": 45,
    "_isFastLaunch": false,
    "category": "Memory Optimized",
    "gpuNum": 0,
    "hideHardwareSpecs": false,
    "memoryGiB": 512,
    "name": "ml.r5.16xlarge",
    "vcpuNum": 64
   },
   {
    "_defaultOrder": 46,
    "_isFastLaunch": false,
    "category": "Memory Optimized",
    "gpuNum": 0,
    "hideHardwareSpecs": false,
    "memoryGiB": 768,
    "name": "ml.r5.24xlarge",
    "vcpuNum": 96
   },
   {
    "_defaultOrder": 47,
    "_isFastLaunch": false,
    "category": "Accelerated computing",
    "gpuNum": 1,
    "hideHardwareSpecs": false,
    "memoryGiB": 16,
    "name": "ml.g5.xlarge",
    "vcpuNum": 4
   },
   {
    "_defaultOrder": 48,
    "_isFastLaunch": false,
    "category": "Accelerated computing",
    "gpuNum": 1,
    "hideHardwareSpecs": false,
    "memoryGiB": 32,
    "name": "ml.g5.2xlarge",
    "vcpuNum": 8
   },
   {
    "_defaultOrder": 49,
    "_isFastLaunch": false,
    "category": "Accelerated computing",
    "gpuNum": 1,
    "hideHardwareSpecs": false,
    "memoryGiB": 64,
    "name": "ml.g5.4xlarge",
    "vcpuNum": 16
   },
   {
    "_defaultOrder": 50,
    "_isFastLaunch": false,
    "category": "Accelerated computing",
    "gpuNum": 1,
    "hideHardwareSpecs": false,
    "memoryGiB": 128,
    "name": "ml.g5.8xlarge",
    "vcpuNum": 32
   },
   {
    "_defaultOrder": 51,
    "_isFastLaunch": false,
    "category": "Accelerated computing",
    "gpuNum": 1,
    "hideHardwareSpecs": false,
    "memoryGiB": 256,
    "name": "ml.g5.16xlarge",
    "vcpuNum": 64
   },
   {
    "_defaultOrder": 52,
    "_isFastLaunch": false,
    "category": "Accelerated computing",
    "gpuNum": 4,
    "hideHardwareSpecs": false,
    "memoryGiB": 192,
    "name": "ml.g5.12xlarge",
    "vcpuNum": 48
   },
   {
    "_defaultOrder": 53,
    "_isFastLaunch": false,
    "category": "Accelerated computing",
    "gpuNum": 4,
    "hideHardwareSpecs": false,
    "memoryGiB": 384,
    "name": "ml.g5.24xlarge",
    "vcpuNum": 96
   },
   {
    "_defaultOrder": 54,
    "_isFastLaunch": false,
    "category": "Accelerated computing",
    "gpuNum": 8,
    "hideHardwareSpecs": false,
    "memoryGiB": 768,
    "name": "ml.g5.48xlarge",
    "vcpuNum": 192
   },
   {
    "_defaultOrder": 55,
    "_isFastLaunch": false,
    "category": "Accelerated computing",
    "gpuNum": 8,
    "hideHardwareSpecs": false,
    "memoryGiB": 1152,
    "name": "ml.p4d.24xlarge",
    "vcpuNum": 96
   },
   {
    "_defaultOrder": 56,
    "_isFastLaunch": false,
    "category": "Accelerated computing",
    "gpuNum": 8,
    "hideHardwareSpecs": false,
    "memoryGiB": 1152,
    "name": "ml.p4de.24xlarge",
    "vcpuNum": 96
   }
  ],
  "colab": {
   "provenance": []
  },
  "environment": {
   "kernel": "python3",
   "name": "common-cpu.m108",
   "type": "gcloud",
   "uri": "gcr.io/deeplearning-platform-release/base-cpu:m108"
  },
  "instance_type": "ml.t3.medium",
  "kernelspec": {
   "display_name": "Python 3 (Base Python 3.0)",
   "language": "python",
   "name": "python3__SAGEMAKER_INTERNAL__arn:aws:sagemaker:us-west-2:236514542706:image/sagemaker-base-python-310-v1"
  },
  "language_info": {
   "codemirror_mode": {
    "name": "ipython",
    "version": 3
   },
   "file_extension": ".py",
   "mimetype": "text/x-python",
   "name": "python",
   "nbconvert_exporter": "python",
   "pygments_lexer": "ipython3",
   "version": "3.10.8"
  },
  "toc-autonumbering": true,
  "toc-showcode": false,
  "toc-showmarkdowntxt": false,
  "toc-showtags": false
 },
 "nbformat": 4,
 "nbformat_minor": 5
}
